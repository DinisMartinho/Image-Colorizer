{
  "nbformat": 4,
  "nbformat_minor": 0,
  "metadata": {
    "colab": {
      "provenance": [],
      "collapsed_sections": [],
      "authorship_tag": "ABX9TyOfJMgRZ4YgQiO1MH4r9OXc",
      "include_colab_link": true
    },
    "kernelspec": {
      "name": "python3",
      "display_name": "Python 3"
    },
    "language_info": {
      "name": "python"
    },
    "accelerator": "GPU"
  },
  "cells": [
    {
      "cell_type": "markdown",
      "metadata": {
        "id": "view-in-github",
        "colab_type": "text"
      },
      "source": [
        "<a href=\"https://colab.research.google.com/github/DinisMartinho/Image-Colorizer/blob/main/NeuralNetwork.ipynb\" target=\"_parent\"><img src=\"https://colab.research.google.com/assets/colab-badge.svg\" alt=\"Open In Colab\"/></a>"
      ]
    },
    {
      "cell_type": "markdown",
      "source": [
        "****Image Colorizer****\n",
        "----\n",
        "\n",
        "**Credits:** Dinis Caçador Martinho **( 08/10/2022 )**\n",
        "\n",
        "[✗] ( https://github.com/DinisMartinho )"
      ],
      "metadata": {
        "id": "jSN-6NsVS9h3"
      }
    },
    {
      "cell_type": "code",
      "execution_count": 1,
      "metadata": {
        "id": "8D-8ROHrql-y"
      },
      "outputs": [],
      "source": [
        "import torch, torchvision\n",
        "from tqdm import tqdm"
      ]
    },
    {
      "cell_type": "code",
      "source": [
        "# GPU is preferable for complex training.\n",
        "use_collab_gpu = True #@param {type:\"boolean\"}"
      ],
      "metadata": {
        "id": "qyjW3qbmQ_Wj"
      },
      "execution_count": 2,
      "outputs": []
    },
    {
      "cell_type": "code",
      "source": [
        "if use_collab_gpu == True:\n",
        "  device = torch.device(\"cuda\" if torch.cuda.is_available() else \"cpu\")\n",
        "else:\n",
        "  device = torch.device(\"cpu\")"
      ],
      "metadata": {
        "id": "MjRF1AEKR8ap"
      },
      "execution_count": 3,
      "outputs": []
    },
    {
      "cell_type": "code",
      "source": [
        "class AutoEncoder(torch.nn.Module):\n",
        "  def __init__(self):\n",
        "    super().__init__()\n",
        "\n",
        "    # Neural Network Layers\n",
        "    self.input_to_hidden = torch.nn.Conv2d(in_channels=1, out_channels=12,\n",
        "                                           kernel_size=(3,3), stride=(1,1), padding=1)\n",
        "    \n",
        "    self.hidden_to_latent = torch.nn.Conv2d(in_channels=12, out_channels=12,\n",
        "                                            kernel_size=(3,3), stride=(1,1), padding=1)\n",
        "    \n",
        "    self.latent_to_hidden = torch.nn.Conv2d(in_channels=12, out_channels=12,\n",
        "                                            kernel_size=(3,3), stride=(1,1), padding=1)\n",
        "    \n",
        "    self.hidden_to_output = torch.nn.Conv2d(in_channels=12, out_channels=3,\n",
        "                                            kernel_size=(3,3), stride=(1,1), padding=1)    \n",
        "    \n",
        "    # Cellulite \n",
        "    self.hidden_to_hidden = torch.nn.Conv2d(in_channels=12, out_channels=12,\n",
        "                                            kernel_size=(3,3), stride=(1,1), padding=1)    \n",
        "    \n",
        "    # Activation Functions\n",
        "    self.relu = torch.nn.ReLU(inplace=True)\n",
        "    self.sigmoid = torch.nn.Sigmoid()\n",
        "\n",
        "  def encode(self, x):\n",
        "    \n",
        "    x = self.input_to_hidden(x)\n",
        "\n",
        "    x = self.hidden_to_hidden(x)\n",
        "    x = self.hidden_to_hidden(x)\n",
        "\n",
        "    x = self.hidden_to_latent(x)\n",
        "    return x\n",
        "\n",
        "\n",
        "  def decode(self, x):\n",
        "\n",
        "    x = self.latent_to_hidden(x)\n",
        "\n",
        "    x = self.hidden_to_hidden(x)\n",
        "    x = self.hidden_to_hidden(x)\n",
        "\n",
        "    x = self.hidden_to_output(x)\n",
        "    return x\n",
        "  \n",
        "\n",
        "  def forward(self, x):\n",
        "    x = self.encode(x)\n",
        "    x = self.decode(x)\n",
        "    x = self.sigmoid(x)\n",
        "    return x"
      ],
      "metadata": {
        "id": "MbTqBOk3KB3g"
      },
      "execution_count": 4,
      "outputs": []
    },
    {
      "cell_type": "code",
      "source": [
        "class AutoEncoderTrainer(torch.nn.Module):\n",
        "  def __init__(self):\n",
        "    super().__init__()\n",
        "\n",
        "    self.to_grayscale = torchvision.transforms.Grayscale()\n",
        "  \n",
        "  def Train(self, model, device, num_epochs, learning_rate, loss_function, optimizer, data_loader):\n",
        "\n",
        "    for epochs in range(num_epochs):\n",
        "      loop = tqdm(enumerate(data_loader))\n",
        "      for i, (x, _) in loop:\n",
        "            # Forward Pass\n",
        "            x = x.to(device)\n",
        "            y = self.to_grayscale(x)\n",
        "            x_reconstructed = model(y)\n",
        "\n",
        "            # Compute Loss\n",
        "            reconstruction_loss = loss_function(x_reconstructed, x)\n",
        "\n",
        "            # Backpropagation\n",
        "            loss = reconstruction_loss\n",
        "            optimizer.zero_grad()\n",
        "            loss.backward()\n",
        "            optimizer.step()\n",
        "            loop.set_postfix(loss=loss.item())\n",
        "            "
      ],
      "metadata": {
        "id": "npOpGXSXN7rJ"
      },
      "execution_count": 5,
      "outputs": []
    },
    {
      "cell_type": "code",
      "source": [
        "from IPython.display import clear_output\n",
        "!pip install opendatasets --upgrade --quiet\n",
        "clear_output()"
      ],
      "metadata": {
        "id": "AtswFCqnUU_g"
      },
      "execution_count": 6,
      "outputs": []
    },
    {
      "cell_type": "code",
      "source": [
        "# Initialize the model.\n",
        "model = AutoEncoder().to(device)"
      ],
      "metadata": {
        "id": "AcNYh4gyQISf"
      },
      "execution_count": 7,
      "outputs": []
    },
    {
      "cell_type": "code",
      "source": [
        "# Download your custom data.\n",
        "# You will need a Kaggle account to access their datasets\n",
        "\n",
        "import opendatasets as od\n",
        "\n",
        "dataset_urls = [\"https://www.kaggle.com/splcher/animefacedataset\"]\n",
        "\n",
        "for url in dataset_urls:\n",
        "  od.download(url)\n",
        "\n",
        "data_dir = [\"./animefacedataset/\"]\n",
        "\n",
        "clear_output()"
      ],
      "metadata": {
        "id": "_w4--2XHWrv5"
      },
      "execution_count": 8,
      "outputs": []
    },
    {
      "cell_type": "code",
      "source": [
        "# Transform and group together all the\n",
        "# datasets downloaded from Kaggle\n",
        "\n",
        "data_transforms = [torchvision.transforms.Resize(64),\n",
        "  torchvision.transforms.CenterCrop(64),\n",
        "  torchvision.transforms.ToTensor()]\n",
        "\n",
        "train_ds = []\n",
        "i = -1\n",
        "for x in data_dir:\n",
        "  i += 1\n",
        "  dataset = torchvision.datasets.ImageFolder(data_dir[i], transform=torchvision.transforms.Compose(data_transforms))\n",
        "  train_ds = torch.utils.data.ConcatDataset([train_ds, dataset])\n",
        "i = 0\n",
        "len(train_ds)"
      ],
      "metadata": {
        "id": "KftGCoewbQ8N",
        "colab": {
          "base_uri": "https://localhost:8080/"
        },
        "outputId": "40ba1973-9c15-44bb-de6d-782ec30915a3"
      },
      "execution_count": 9,
      "outputs": [
        {
          "output_type": "execute_result",
          "data": {
            "text/plain": [
              "63565"
            ]
          },
          "metadata": {},
          "execution_count": 9
        }
      ]
    },
    {
      "cell_type": "code",
      "source": [
        "# Create a data loader.\n",
        "\n",
        "batch_size = 256\n",
        "\n",
        "train_loader = torch.utils.data.DataLoader(dataset=train_ds, batch_size=batch_size, shuffle=True, num_workers=2)"
      ],
      "metadata": {
        "id": "MB91KlQkjTg8"
      },
      "execution_count": 10,
      "outputs": []
    },
    {
      "cell_type": "code",
      "source": [
        "# Create a loss function and optimizer\n",
        "\n",
        "lr_rate = 3e-5\n",
        "\n",
        "loss_func = torch.nn.BCELoss(reduction=\"sum\")\n",
        "optimizer = torch.optim.Adam(model.parameters(), lr=lr_rate)"
      ],
      "metadata": {
        "id": "Po7NETX-wQCi"
      },
      "execution_count": 11,
      "outputs": []
    },
    {
      "cell_type": "code",
      "source": [
        "# Let's train the model\n",
        "# 10 Epochs should be good enough for a simple demonstration\n",
        "\n",
        "num_epochs = 10"
      ],
      "metadata": {
        "id": "iy6ghSTAwmor"
      },
      "execution_count": 12,
      "outputs": []
    },
    {
      "cell_type": "code",
      "source": [
        "Trainer = AutoEncoderTrainer()"
      ],
      "metadata": {
        "id": "5pzeHzETw6f4"
      },
      "execution_count": 13,
      "outputs": []
    },
    {
      "cell_type": "code",
      "source": [
        "Trainer.Train(model=model,\n",
        "             device=device,\n",
        "             num_epochs=num_epochs,\n",
        "             learning_rate=lr_rate,\n",
        "             loss_function=loss_func,\n",
        "             optimizer=optimizer,\n",
        "             data_loader=train_loader)"
      ],
      "metadata": {
        "id": "4JaxixMDwZll",
        "colab": {
          "base_uri": "https://localhost:8080/"
        },
        "outputId": "82ee63d6-4a96-440b-91af-97d9f52ee590"
      },
      "execution_count": 29,
      "outputs": [
        {
          "output_type": "stream",
          "name": "stderr",
          "text": [
            "249it [00:38,  6.53it/s, loss=4.75e+5]\n",
            "249it [00:38,  6.54it/s, loss=4.8e+5]\n",
            "249it [00:38,  6.48it/s, loss=4.77e+5]\n",
            "249it [00:40,  6.15it/s, loss=4.75e+5]\n",
            "249it [00:37,  6.56it/s, loss=4.76e+5]\n",
            "249it [00:38,  6.46it/s, loss=4.71e+5]\n",
            "249it [00:37,  6.57it/s, loss=4.82e+5]\n",
            "249it [00:38,  6.53it/s, loss=4.76e+5]\n",
            "249it [00:38,  6.52it/s, loss=4.75e+5]\n",
            "249it [00:38,  6.53it/s, loss=4.87e+5]\n"
          ]
        }
      ]
    },
    {
      "cell_type": "code",
      "source": [
        "# Now you can save the model or load an old one :)\n",
        "\n",
        "torch.save(model.state_dict(), \"./htl.pth\")"
      ],
      "metadata": {
        "id": "N0xA2gtcsmR2"
      },
      "execution_count": 15,
      "outputs": []
    },
    {
      "cell_type": "code",
      "source": [
        "# Load an old one :)\n",
        "\n",
        "model.load_state_dict(torch.load(\"./htl.pth\"))"
      ],
      "metadata": {
        "id": "ZCHlOfm2vfP9",
        "colab": {
          "base_uri": "https://localhost:8080/"
        },
        "outputId": "d0501181-79b8-453b-c0da-7794d08eb2af"
      },
      "execution_count": 16,
      "outputs": [
        {
          "output_type": "execute_result",
          "data": {
            "text/plain": [
              "<All keys matched successfully>"
            ]
          },
          "metadata": {},
          "execution_count": 16
        }
      ]
    },
    {
      "cell_type": "code",
      "source": [
        "from PIL import Image"
      ],
      "metadata": {
        "id": "keyIehYSx5c5"
      },
      "execution_count": 17,
      "outputs": []
    },
    {
      "cell_type": "code",
      "source": [
        "# Now let's test this network\n",
        "# This will grab your image and transform it to a grayscaled\n",
        "# one in order to be compared\n",
        "\n",
        "path_to_your_image = \"./animefacedataset/images/10002_2004.jpg\"\n",
        "\n",
        "PILLimage = Image.open(path_to_your_image)\n",
        "\n",
        "ToTensor = torchvision.transforms.ToTensor()\n",
        "TensorImage = ToTensor(PILLimage)\n",
        "\n",
        "ToGrayscale = torchvision.transforms.Grayscale()\n",
        "TensorGrayscaleImage = ToGrayscale(TensorImage).to(device)"
      ],
      "metadata": {
        "id": "gaTbxE8axldV"
      },
      "execution_count": 25,
      "outputs": []
    },
    {
      "cell_type": "code",
      "source": [
        "output_image = model(TensorGrayscaleImage)\n",
        "torchvision.utils.save_image(TensorImage, \"original.png\")\n",
        "torchvision.utils.save_image(TensorGrayscaleImage, \"grayscale.png\")\n",
        "torchvision.utils.save_image(output_image, \"output.png\")"
      ],
      "metadata": {
        "id": "jjxBAEgXyQWo"
      },
      "execution_count": 26,
      "outputs": []
    },
    {
      "cell_type": "code",
      "source": [
        "import matplotlib.pyplot as plt\n",
        "import matplotlib.image as mpimg\n",
        "%matplotlib inline"
      ],
      "metadata": {
        "id": "iX7md2ykQ8sA"
      },
      "execution_count": 27,
      "outputs": []
    },
    {
      "cell_type": "code",
      "source": [
        "# Let's display these images\n",
        "\n",
        "img = mpimg.imread('original.png')\n",
        "imgplot = plt.imshow(img)\n",
        "plt.show()\n",
        "\n",
        "img = mpimg.imread('grayscale.png')\n",
        "imgplot = plt.imshow(img)\n",
        "plt.show()\n",
        "\n",
        "img = mpimg.imread('output.png')\n",
        "imgplot = plt.imshow(img)\n",
        "plt.show()"
      ],
      "metadata": {
        "colab": {
          "base_uri": "https://localhost:8080/",
          "height": 767
        },
        "id": "BF9ojb-0Q1xq",
        "outputId": "b85a8a97-3dca-4642-d8d9-4134ce2cd429"
      },
      "execution_count": 30,
      "outputs": [
        {
          "output_type": "display_data",
          "data": {
            "text/plain": [
              "<Figure size 432x288 with 1 Axes>"
            ],
            "image/png": "[encoded data removed]"
          },
          "metadata": {
            "needs_background": "light"
          }
        },
        {
          "output_type": "display_data",
          "data": {
            "text/plain": [
              "<Figure size 432x288 with 1 Axes>"
            ],
            "image/png": "[encoded data removed]"
          },
          "metadata": {
            "needs_background": "light"
          }
        },
        {
          "output_type": "display_data",
          "data": {
            "text/plain": [
              "<Figure size 432x288 with 1 Axes>"
            ],
            "image/png": "[encoded data removed]"
          },
          "metadata": {
            "needs_background": "light"
          }
        }
      ]
    }
  ]
}